{
 "cells": [
  {
   "cell_type": "markdown",
   "metadata": {},
   "source": [
    "## Fuzzy C-Means Clustering"
   ]
  },
  {
   "cell_type": "code",
   "execution_count": 19,
   "metadata": {
    "ExecuteTime": {
     "end_time": "2019-05-27T11:45:05.820416Z",
     "start_time": "2019-05-27T11:45:05.795902Z"
    }
   },
   "outputs": [],
   "source": [
    "import numpy as np\n",
    "import pandas as pd\n",
    "import math\n",
    "from datetime import datetime as dt\n",
    "import matplotlib.pyplot as plt\n",
    "%matplotlib inline  "
   ]
  },
  {
   "cell_type": "code",
   "execution_count": 61,
   "metadata": {
    "ExecuteTime": {
     "end_time": "2019-05-27T14:06:34.374913Z",
     "start_time": "2019-05-27T14:06:34.205383Z"
    }
   },
   "outputs": [
    {
     "data": {
      "image/png": "[encoded data removed]",
      "text/plain": [
       "<Figure size 720x720 with 1 Axes>"
      ]
     },
     "metadata": {
      "needs_background": "light"
     },
     "output_type": "display_data"
    }
   ],
   "source": [
    "colors = ['b', 'orange', 'g', 'r', 'c', 'm', 'y', 'k', 'Brown', 'ForestGreen']\n",
    "\n",
    "# Define three cluster centers\n",
    "centers = [[4, 2],\n",
    "           [1, 7],\n",
    "           [5, 6]]\n",
    "\n",
    "# Define three cluster sigmas in x and y, respectively\n",
    "sigmas = [[0.8, 0.3],\n",
    "          [0.3, 0.5],\n",
    "          [1.1, 0.7]]\n",
    "\n",
    "# Generate test data\n",
    "np.random.seed(42)  # Set seed for reproducibility\n",
    "xpts = np.zeros(1)\n",
    "ypts = np.zeros(1)\n",
    "labels = np.zeros(1)\n",
    "for i, ((xmu, ymu), (xsigma, ysigma)) in enumerate(zip(centers, sigmas)):\n",
    "    xpts = np.hstack((xpts, np.random.standard_normal(200) * xsigma + xmu))\n",
    "    ypts = np.hstack((ypts, np.random.standard_normal(200) * ysigma + ymu))\n",
    "    labels = np.hstack((labels, np.ones(200) * i))\n",
    "\n",
    "# Visualize the test data\n",
    "\n",
    "fig0, ax0 = plt.subplots(figsize=(10,10))\n",
    "for label in range(3):\n",
    "    ax0.plot(xpts[labels == label], ypts[labels == label], '.',\n",
    "    color=colors[label])\n"
   ]
  },
  {
   "cell_type": "code",
   "execution_count": 65,
   "metadata": {
    "ExecuteTime": {
     "end_time": "2019-05-27T14:09:10.203277Z",
     "start_time": "2019-05-27T14:09:10.187539Z"
    }
   },
   "outputs": [
    {
     "data": {
      "text/plain": [
       "(601,)"
      ]
     },
     "execution_count": 65,
     "metadata": {},
     "output_type": "execute_result"
    }
   ],
   "source": [
    "ypts.shape"
   ]
  },
  {
   "cell_type": "code",
   "execution_count": 71,
   "metadata": {
    "ExecuteTime": {
     "end_time": "2019-05-27T14:10:28.839365Z",
     "start_time": "2019-05-27T14:10:28.831327Z"
    }
   },
   "outputs": [],
   "source": [
    "data = np.zeros((xpts.shape[0],2))\n",
    "for i in range(xpts.shape[0]):\n",
    "    data[i] = (xpts[i],ypts[i])"
   ]
  },
  {
   "cell_type": "code",
   "execution_count": 74,
   "metadata": {
    "ExecuteTime": {
     "end_time": "2019-05-27T14:10:50.801062Z",
     "start_time": "2019-05-27T14:10:50.784882Z"
    }
   },
   "outputs": [
    {
     "data": {
      "text/plain": [
       "2"
      ]
     },
     "execution_count": 74,
     "metadata": {},
     "output_type": "execute_result"
    }
   ],
   "source": [
    "data.shape[1]"
   ]
  },
  {
   "cell_type": "code",
   "execution_count": 76,
   "metadata": {
    "ExecuteTime": {
     "end_time": "2019-05-27T14:13:49.059125Z",
     "start_time": "2019-05-27T14:13:49.052789Z"
    }
   },
   "outputs": [],
   "source": [
    "df3 = pd.DataFrame(data,columns=['X','Y'])"
   ]
  },
  {
   "cell_type": "code",
   "execution_count": 78,
   "metadata": {
    "ExecuteTime": {
     "end_time": "2019-05-27T14:14:09.918812Z",
     "start_time": "2019-05-27T14:14:09.902410Z"
    }
   },
   "outputs": [
    {
     "data": {
      "text/plain": [
       "(601, 2)"
      ]
     },
     "execution_count": 78,
     "metadata": {},
     "output_type": "execute_result"
    }
   ],
   "source": [
    "df3.shape"
   ]
  },
  {
   "cell_type": "code",
   "execution_count": 104,
   "metadata": {
    "ExecuteTime": {
     "end_time": "2019-05-27T14:26:53.272682Z",
     "start_time": "2019-05-27T14:26:53.254325Z"
    }
   },
   "outputs": [
    {
     "data": {
      "text/plain": [
       "array([ 0.50798276, -0.06089915])"
      ]
     },
     "execution_count": 104,
     "metadata": {},
     "output_type": "execute_result"
    }
   ],
   "source": [
    "(df3.iloc[1] - df3.iloc[2]).values"
   ]
  },
  {
   "cell_type": "code",
   "execution_count": 83,
   "metadata": {
    "ExecuteTime": {
     "end_time": "2019-05-27T14:17:32.059738Z",
     "start_time": "2019-05-27T14:17:32.034817Z"
    },
    "scrolled": true
   },
   "outputs": [
    {
     "data": {
      "text/html": [
       "<div>\n",
       "<style scoped>\n",
       "    .dataframe tbody tr th:only-of-type {\n",
       "        vertical-align: middle;\n",
       "    }\n",
       "\n",
       "    .dataframe tbody tr th {\n",
       "        vertical-align: top;\n",
       "    }\n",
       "\n",
       "    .dataframe thead th {\n",
       "        text-align: right;\n",
       "    }\n",
       "</style>\n",
       "<table border=\"1\" class=\"dataframe\">\n",
       "  <thead>\n",
       "    <tr style=\"text-align: right;\">\n",
       "      <th></th>\n",
       "      <th>X</th>\n",
       "      <th>Y</th>\n",
       "    </tr>\n",
       "  </thead>\n",
       "  <tbody>\n",
       "    <tr>\n",
       "      <th>0</th>\n",
       "      <td>0.000000</td>\n",
       "      <td>0.000000</td>\n",
       "    </tr>\n",
       "    <tr>\n",
       "      <th>1</th>\n",
       "      <td>4.397371</td>\n",
       "      <td>2.107336</td>\n",
       "    </tr>\n",
       "    <tr>\n",
       "      <th>2</th>\n",
       "      <td>3.889389</td>\n",
       "      <td>2.168235</td>\n",
       "    </tr>\n",
       "    <tr>\n",
       "      <th>3</th>\n",
       "      <td>4.518151</td>\n",
       "      <td>2.324915</td>\n",
       "    </tr>\n",
       "    <tr>\n",
       "      <th>4</th>\n",
       "      <td>5.218424</td>\n",
       "      <td>2.316141</td>\n",
       "    </tr>\n",
       "  </tbody>\n",
       "</table>\n",
       "</div>"
      ],
      "text/plain": [
       "          X         Y\n",
       "0  0.000000  0.000000\n",
       "1  4.397371  2.107336\n",
       "2  3.889389  2.168235\n",
       "3  4.518151  2.324915\n",
       "4  5.218424  2.316141"
      ]
     },
     "execution_count": 83,
     "metadata": {},
     "output_type": "execute_result"
    }
   ],
   "source": [
    "df3.head()"
   ]
  },
  {
   "cell_type": "code",
   "execution_count": 86,
   "metadata": {
    "ExecuteTime": {
     "end_time": "2019-05-27T14:20:07.179220Z",
     "start_time": "2019-05-27T14:20:07.163968Z"
    }
   },
   "outputs": [],
   "source": [
    "centres = df3.head(3)"
   ]
  },
  {
   "cell_type": "code",
   "execution_count": 87,
   "metadata": {
    "ExecuteTime": {
     "end_time": "2019-05-27T14:20:12.916120Z",
     "start_time": "2019-05-27T14:20:12.906087Z"
    }
   },
   "outputs": [
    {
     "data": {
      "text/html": [
       "<div>\n",
       "<style scoped>\n",
       "    .dataframe tbody tr th:only-of-type {\n",
       "        vertical-align: middle;\n",
       "    }\n",
       "\n",
       "    .dataframe tbody tr th {\n",
       "        vertical-align: top;\n",
       "    }\n",
       "\n",
       "    .dataframe thead th {\n",
       "        text-align: right;\n",
       "    }\n",
       "</style>\n",
       "<table border=\"1\" class=\"dataframe\">\n",
       "  <thead>\n",
       "    <tr style=\"text-align: right;\">\n",
       "      <th></th>\n",
       "      <th>X</th>\n",
       "      <th>Y</th>\n",
       "    </tr>\n",
       "  </thead>\n",
       "  <tbody>\n",
       "    <tr>\n",
       "      <th>0</th>\n",
       "      <td>0.000000</td>\n",
       "      <td>0.000000</td>\n",
       "    </tr>\n",
       "    <tr>\n",
       "      <th>1</th>\n",
       "      <td>4.397371</td>\n",
       "      <td>2.107336</td>\n",
       "    </tr>\n",
       "    <tr>\n",
       "      <th>2</th>\n",
       "      <td>3.889389</td>\n",
       "      <td>2.168235</td>\n",
       "    </tr>\n",
       "  </tbody>\n",
       "</table>\n",
       "</div>"
      ],
      "text/plain": [
       "          X         Y\n",
       "0  0.000000  0.000000\n",
       "1  4.397371  2.107336\n",
       "2  3.889389  2.168235"
      ]
     },
     "execution_count": 87,
     "metadata": {},
     "output_type": "execute_result"
    }
   ],
   "source": [
    "centres"
   ]
  },
  {
   "cell_type": "code",
   "execution_count": 130,
   "metadata": {
    "ExecuteTime": {
     "end_time": "2019-05-27T15:07:50.315275Z",
     "start_time": "2019-05-27T15:07:50.299781Z"
    }
   },
   "outputs": [],
   "source": [
    "def dist_vect(v1, v2):\n",
    "    return ((v1 - v2) ** 2).sum()"
   ]
  },
  {
   "cell_type": "code",
   "execution_count": 98,
   "metadata": {
    "ExecuteTime": {
     "end_time": "2019-05-27T14:24:57.905889Z",
     "start_time": "2019-05-27T14:24:57.901813Z"
    }
   },
   "outputs": [],
   "source": [
    "def dist_vect_df(df, series):\n",
    "    return df.apply(lambda x: dist_vect(x, series), axis=1)"
   ]
  },
  {
   "cell_type": "code",
   "execution_count": 100,
   "metadata": {
    "ExecuteTime": {
     "end_time": "2019-05-27T14:25:14.688457Z",
     "start_time": "2019-05-27T14:25:14.662142Z"
    }
   },
   "outputs": [
    {
     "data": {
      "text/plain": [
       "0    23.777740\n",
       "1     0.000000\n",
       "2     0.261755\n",
       "dtype: float64"
      ]
     },
     "execution_count": 100,
     "metadata": {},
     "output_type": "execute_result"
    }
   ],
   "source": [
    "dist_vect_df(centres,df3.iloc[1])"
   ]
  },
  {
   "cell_type": "code",
   "execution_count": 105,
   "metadata": {
    "ExecuteTime": {
     "end_time": "2019-05-27T14:27:35.895687Z",
     "start_time": "2019-05-27T14:27:35.881171Z"
    }
   },
   "outputs": [],
   "source": [
    "def distance(centres, data):\n",
    "    distances = np.zeros((data.shape[0],centres.shape[0]))\n",
    "    for i in range(data.shape[0]):\n",
    "            distances[i] = dist_vect_df(centres,data.iloc[i])\n",
    "    return distances\n",
    "                "
   ]
  },
  {
   "cell_type": "code",
   "execution_count": 128,
   "metadata": {
    "ExecuteTime": {
     "end_time": "2019-05-27T15:04:06.983654Z",
     "start_time": "2019-05-27T15:04:06.962518Z"
    }
   },
   "outputs": [],
   "source": [
    "def membership_value(distances):\n",
    "    u = np.zeros((distances.shape[1],distances.shape[0]))\n",
    "    for r in range(distances.shape[1]):\n",
    "        for i in range(distances.shape[0]):\n",
    "            if distances[i][r] == 0:\n",
    "                u[r][i] = 1\n",
    "            else:\n",
    "                s = np.sum(distances[i])\n",
    "                dist = distances[i][r]\n",
    "                frac = distances[i][r]/s\n",
    "                u[r][i] = 1/frac\n",
    "    return u     "
   ]
  },
  {
   "cell_type": "code",
   "execution_count": 129,
   "metadata": {
    "ExecuteTime": {
     "end_time": "2019-05-27T15:04:07.334785Z",
     "start_time": "2019-05-27T15:04:07.300206Z"
    }
   },
   "outputs": [
    {
     "data": {
      "text/plain": [
       "array([[ 1.        ,  1.01100841,  1.0132009 , ...,  1.56063366,\n",
       "         1.57068929,  1.6364666 ],\n",
       "       [ 1.83391389,  1.        , 76.75241433, ...,  5.71600415,\n",
       "         5.46131003,  5.23725782],\n",
       "       [ 2.19916459, 91.83961258,  1.        , ...,  5.42631151,\n",
       "         5.54844757,  5.05081826]])"
      ]
     },
     "execution_count": 129,
     "metadata": {},
     "output_type": "execute_result"
    }
   ],
   "source": [
    "membership_value(d)"
   ]
  },
  {
   "cell_type": "code",
   "execution_count": 60,
   "metadata": {
    "ExecuteTime": {
     "end_time": "2019-05-27T13:31:44.031921Z",
     "start_time": "2019-05-27T13:31:44.021795Z"
    }
   },
   "outputs": [],
   "source": [
    "def centroids(data,u):\n",
    "    m = 2\n",
    "    c = np.empty((u.shape[0]))\n",
    "    for r in range(c.shape[0]):\n",
    "        s = 0\n",
    "        d = 0\n",
    "        for i in range(len(data)):\n",
    "            s += np.power(u[r][i],2)*data[i]\n",
    "            d += np.power(u[r][i],2)\n",
    "        c[r] = s/d*1.0\n",
    "    return c"
   ]
  },
  {
   "cell_type": "code",
   "execution_count": null,
   "metadata": {},
   "outputs": [],
   "source": []
  }
 ],
 "metadata": {
  "kernelspec": {
   "display_name": "Python 3",
   "language": "python",
   "name": "python3"
  },
  "language_info": {
   "codemirror_mode": {
    "name": "ipython",
    "version": 3
   },
   "file_extension": ".py",
   "mimetype": "text/x-python",
   "name": "python",
   "nbconvert_exporter": "python",
   "pygments_lexer": "ipython3",
   "version": "3.7.2"
  }
 },
 "nbformat": 4,
 "nbformat_minor": 2
}
